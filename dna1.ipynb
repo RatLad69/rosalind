{
 "cells": [
  {
   "cell_type": "code",
   "execution_count": 24,
   "metadata": {},
   "outputs": [],
   "source": [
    "dataset = \"AGTTGTGGGGCTCAGTAAGTAAATAGACACCTAGGCGAAAGCGGGAACGCAATGATTCTCCATTGGGATAGACATCAAAATTCATCAGCCTACTGGTCGCGCAGCAAGTGAAAACGACGTGGTCTGAAGGGATACCCCCGGTCTATCCCATACTTGCAGAATGCCGGCACTGGCACTGCTACGACTTCCATCGTCACCGCCCGATTAATACGTCAGAGGTTCTTCTTCACAGCACTAGCCCATACGCGGCGCGAGAATCTACCCAAGCATAAACGGCGAGTTCAAGGTAAGCGTGTTCTCCACGAGGGGCGCATACCTTAAAGAAATAACCACGGACAAATCGGGACTCCCAGCGTAACTGCCCCGCGGCTGGTAAGCGCTAGTTCGGCCTGGTGCGTTACGTAGCTCGTGCCATTGCATCGCGCAGATTATACCCCTTCCCCACTGGGCACCCTGTGCTCCCATAATACGACCACGGTAGATCCGATATTATCTGAAACGGCAGTATGCCCCATAATAAAAAATGAGGCAACCTACCTGGGGACAGCCCATGAGATCATTTGGGGGCAATCTCCTTCTACCACCATAGCGCCGCAGTCACATGGCGCCGCAGACAACACCCATGTCGCAGACAGATCTAATGTCAGCATTGGATATTAACGGATTAATAAGCTGGGAGTAGTTCTACTGGAACCAAGCGATGAATGTCAGGGAAACAAAATACGTGATATAGCACAGGTGACCAATGTTTGTCACAAACACCGCGGACAACCGCATCATCGCTTGCCCTACTGTGCACGCTACGCGTCGACTGGTTCGTACGGGTCGGCCGGTGTTTGCATCCGATCACCTTGATAACAC\""
   ]
  },
  {
   "cell_type": "code",
   "execution_count": 25,
   "metadata": {},
   "outputs": [],
   "source": [
    "a = 0\n",
    "g = 0\n",
    "c = 0\n",
    "t = 0"
   ]
  },
  {
   "cell_type": "code",
   "execution_count": 26,
   "metadata": {},
   "outputs": [],
   "source": [
    "for i in dataset:\n",
    "    if i == \"A\":\n",
    "        a += 1\n",
    "    elif i == \"G\":\n",
    "        g += 1\n",
    "    elif i == \"C\":\n",
    "        c += 1\n",
    "    elif i == \"T\":\n",
    "        t += 1"
   ]
  },
  {
   "cell_type": "code",
   "execution_count": 27,
   "metadata": {},
   "outputs": [
    {
     "name": "stdout",
     "output_type": "stream",
     "text": [
      "232 240 209 180\n"
     ]
    }
   ],
   "source": [
    "print(a, c, g, t)"
   ]
  }
 ],
 "metadata": {
  "kernelspec": {
   "display_name": "Python 3",
   "language": "python",
   "name": "python3"
  },
  "language_info": {
   "codemirror_mode": {
    "name": "ipython",
    "version": 3
   },
   "file_extension": ".py",
   "mimetype": "text/x-python",
   "name": "python",
   "nbconvert_exporter": "python",
   "pygments_lexer": "ipython3",
   "version": "3.11.8"
  }
 },
 "nbformat": 4,
 "nbformat_minor": 2
}
